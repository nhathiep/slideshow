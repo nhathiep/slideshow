{
 "cells": [
  {
   "cell_type": "markdown",
   "metadata": {
    "slideshow": {
     "slide_type": "slide"
    }
   },
   "source": [
    "# Publishing Jupter SlideShows on GitHub/GitLab\n",
    "\n",
    "**Pre-requisites:**\n",
    "- Have Jupyter notebook installed\n",
    "- Have a GitHub/GitLab account\n",
    "\n",
    "**Table of Contents:**\n",
    "\n",
    "- Part 0: Intro/Example (what publishing your slideshow can look like)\n",
    "- Part 1: Set up your SlideShow with Jupyter Notebook\n",
    "- Part 2: Create the html slideshow file\n",
    "- Part 3: Publish your slideshow to Github or GitLab\n",
    "- Part 4: Resources & more details"
   ]
  },
  {
   "cell_type": "markdown",
   "metadata": {
    "slideshow": {
     "slide_type": "slide"
    }
   },
   "source": [
    "### Part 0: Intro/Example (what publishing your slideshow can look like)\n",
    "Example: Distribution of restaurant spend by day of week\n",
    "\n",
    "![alt text](https://github.com/nhathiep/slideshow/blob/main/Assets/Botplox.PNG?raw=true)\n",
    "\n",
    "⬇️ click down arrow for more details ➡️ click right arrow to go to part 1"
   ]
  },
  {
   "cell_type": "markdown",
   "metadata": {
    "slideshow": {
     "slide_type": "subslide"
    }
   },
   "source": [
    "The data is some sample dataset from the seaborn module.  \n",
    "The dataset is called \"tips\" and is loaded with \"load_dataset\".  \n",
    "  \n",
    "⬇️ click down arrow for more details ➡️ **double**-click right arrow to go to part 1"
   ]
  },
  {
   "cell_type": "code",
   "execution_count": 1,
   "metadata": {
    "slideshow": {
     "slide_type": "fragment"
    }
   },
   "outputs": [
    {
     "data": {
      "text/html": [
       "<div>\n",
       "<style scoped>\n",
       "    .dataframe tbody tr th:only-of-type {\n",
       "        vertical-align: middle;\n",
       "    }\n",
       "\n",
       "    .dataframe tbody tr th {\n",
       "        vertical-align: top;\n",
       "    }\n",
       "\n",
       "    .dataframe thead th {\n",
       "        text-align: right;\n",
       "    }\n",
       "</style>\n",
       "<table border=\"1\" class=\"dataframe\">\n",
       "  <thead>\n",
       "    <tr style=\"text-align: right;\">\n",
       "      <th></th>\n",
       "      <th>total_bill</th>\n",
       "      <th>tip</th>\n",
       "      <th>sex</th>\n",
       "      <th>smoker</th>\n",
       "      <th>day</th>\n",
       "      <th>time</th>\n",
       "      <th>size</th>\n",
       "    </tr>\n",
       "  </thead>\n",
       "  <tbody>\n",
       "    <tr>\n",
       "      <th>0</th>\n",
       "      <td>16.99</td>\n",
       "      <td>1.01</td>\n",
       "      <td>Female</td>\n",
       "      <td>No</td>\n",
       "      <td>Sun</td>\n",
       "      <td>Dinner</td>\n",
       "      <td>2</td>\n",
       "    </tr>\n",
       "    <tr>\n",
       "      <th>1</th>\n",
       "      <td>10.34</td>\n",
       "      <td>1.66</td>\n",
       "      <td>Male</td>\n",
       "      <td>No</td>\n",
       "      <td>Sun</td>\n",
       "      <td>Dinner</td>\n",
       "      <td>3</td>\n",
       "    </tr>\n",
       "    <tr>\n",
       "      <th>2</th>\n",
       "      <td>21.01</td>\n",
       "      <td>3.50</td>\n",
       "      <td>Male</td>\n",
       "      <td>No</td>\n",
       "      <td>Sun</td>\n",
       "      <td>Dinner</td>\n",
       "      <td>3</td>\n",
       "    </tr>\n",
       "    <tr>\n",
       "      <th>3</th>\n",
       "      <td>23.68</td>\n",
       "      <td>3.31</td>\n",
       "      <td>Male</td>\n",
       "      <td>No</td>\n",
       "      <td>Sun</td>\n",
       "      <td>Dinner</td>\n",
       "      <td>2</td>\n",
       "    </tr>\n",
       "    <tr>\n",
       "      <th>4</th>\n",
       "      <td>24.59</td>\n",
       "      <td>3.61</td>\n",
       "      <td>Female</td>\n",
       "      <td>No</td>\n",
       "      <td>Sun</td>\n",
       "      <td>Dinner</td>\n",
       "      <td>4</td>\n",
       "    </tr>\n",
       "  </tbody>\n",
       "</table>\n",
       "</div>"
      ],
      "text/plain": [
       "   total_bill   tip     sex smoker  day    time  size\n",
       "0       16.99  1.01  Female     No  Sun  Dinner     2\n",
       "1       10.34  1.66    Male     No  Sun  Dinner     3\n",
       "2       21.01  3.50    Male     No  Sun  Dinner     3\n",
       "3       23.68  3.31    Male     No  Sun  Dinner     2\n",
       "4       24.59  3.61  Female     No  Sun  Dinner     4"
      ]
     },
     "execution_count": 1,
     "metadata": {},
     "output_type": "execute_result"
    }
   ],
   "source": [
    "import seaborn as sns\n",
    "sns.set_theme(style=\"whitegrid\")\n",
    "tips = sns.load_dataset(\"tips\")\n",
    "tips.head()"
   ]
  },
  {
   "cell_type": "markdown",
   "metadata": {
    "slideshow": {
     "slide_type": "subslide"
    }
   },
   "source": [
    "The chart is generated with seaborn (boxplot)  \n",
    "x-axis is the day of the week  \n",
    "y-axis is the spend at the restaurant (i.e. the total bill)  \n",
    "  \n",
    "⬇️ click down arrow for more details ➡️ **double**-click right arrow to go to part 1"
   ]
  },
  {
   "cell_type": "code",
   "execution_count": 2,
   "metadata": {
    "slideshow": {
     "slide_type": "fragment"
    }
   },
   "outputs": [
    {
     "data": {
      "image/png": "[encoded data removed]",
      "text/plain": [
       "<Figure size 432x288 with 1 Axes>"
      ]
     },
     "metadata": {},
     "output_type": "display_data"
    }
   ],
   "source": [
    "ax = sns.boxplot(x=\"day\", y=\"total_bill\", data=tips)"
   ]
  },
  {
   "cell_type": "markdown",
   "metadata": {
    "slideshow": {
     "slide_type": "slide"
    }
   },
   "source": [
    "### Part 1: Creating a SlideShow with Jupyter Notebook\n",
    "First go to View>Cell Toolbar>SlideShow\n",
    "![alt text](https://raw.githubusercontent.com/nhathiep/slideshow/main/Assets/Cell%20toolbar%20slideshow.PNG)\n",
    "\n",
    "⬇️ click down arrow for more details or ➡️ click right arrow to go to part 2"
   ]
  },
  {
   "cell_type": "markdown",
   "metadata": {
    "slideshow": {
     "slide_type": "subslide"
    }
   },
   "source": [
    "Then select the type for each slide\n",
    "![alt text](https://raw.githubusercontent.com/nhathiep/slideshow/main/Assets/Slide%20type.PNG)\n",
    "\n",
    "⬇️ click down arrow for more details ➡️ click right arrow to go to part 2"
   ]
  },
  {
   "cell_type": "markdown",
   "metadata": {
    "slideshow": {
     "slide_type": "subslide"
    }
   },
   "source": [
    "Then select the Slide Type:\n",
    "- Slide — move through slides from left to right\n",
    "- Sub-Slide — add a slide below the previous one\n",
    "- Fragment — add a fragment to the previous slide\n",
    "- Skip — do not create a slide from a cell\n",
    "- Notes — also no slide is created here\n",
    "\n",
    "➡️ click right arrow to go to part 2"
   ]
  },
  {
   "cell_type": "markdown",
   "metadata": {
    "slideshow": {
     "slide_type": "slide"
    }
   },
   "source": [
    "### Part 2: Creating a SlideShow with Jupyter Notebook\n",
    "To create a slideshow, you need to execute one of the following commands in the Command Line (Windows) or Terminal(MacOS):\n",
    ">jupyter nbconvert <font color='blue'>[notebook_name]</font>.ipynb --to slides --stdout > index.html  \n",
    "\n",
    "*or alternatively to hide code cell*:\n",
    ">jupyter nbconvert <font color='blue'>[notebook_name]</font>.ipynb --no-input --no-prompt --to slides --stdout > index.html\n",
    "\n",
    "*or alternatively - not my preferred option as it tends to zoom in on the page*:\n",
    "> jupyter nbconvert Jupyter\\ <font color='blue'>[notebook_name]</font>.ipynb --to slides --post serve   \n",
    "\n",
    "⬇️ click down arrow for more details ➡️ click right arrow to go to part 3"
   ]
  },
  {
   "cell_type": "markdown",
   "metadata": {
    "slideshow": {
     "slide_type": "subslide"
    }
   },
   "source": [
    "In my case:\n",
    ">jupyter nbconvert Jupyter\\ <font color='blue'>jupyter_slideshow_Gitlab.ipynb</font> --to slides --stdout > index.html  \n",
    "\n",
    "This will create an HTLM file that contains your slideshow  \n",
    "Your HTML file will be in the same folder as that of all your ipynb notebooks by default"
   ]
  },
  {
   "cell_type": "markdown",
   "metadata": {
    "slideshow": {
     "slide_type": "slide"
    }
   },
   "source": [
    "### Part 3: Host on/Deploy to GitHub or GitLab\n",
    "\n",
    "#### If you manually publish on GithHub\n",
    "- Upload the html file in your repo, and make sure it is renamed as index.html\n",
    "- Upload the jupyter notebook (ipynb file)\n",
    "- See at https://<font color=blue>[yourusername]</font>.github.io/<font color=blue>[your_repo_name]</font>/  \n",
    "\n",
    "#### If you manually publish on GitLab\n",
    "⚠️ When using a corporate GitLab, connect via VPN; or else GitLab might not serve the pages\n",
    "- New project >Create from template>Pages/plain html\n",
    "- Go into public folder then swap the index.html with your own html file (rename it as \"index.html\")\n",
    "- On the left side, go to Settings>pages\n",
    "\n",
    "You can see your pages are either served under:  \n",
    "- https://<font color=blue>[yourusername]</font>.gitlab.io/<font color=blue>[your_repo_name]</font> (Personal account) or <br>\n",
    "- https://<font color=blue>[yourusername]</font>.pages.[companyname].com/<font color=blue>[your_repo_name]</font> (Company account)\n",
    "\n",
    "⬇️ click down arrow for more details ➡️ click right arrow to go to part 4"
   ]
  },
  {
   "cell_type": "markdown",
   "metadata": {
    "slideshow": {
     "slide_type": "subslide"
    }
   },
   "source": [
    "#### If you use Git commands to push your local repo to Github\n",
    "The below commands should be executed via your Command Line (Windows) or Terminal(MacOS)  \n",
    "You need to be at the root of your project folder before executing the commands (use \"change directory\" [cd] to navigate)\n",
    "\n",
    "First, create a new git repository locally with the \"gh-pages\" branch. \n",
    "> git init                   <font color=grey> : creates a local git repository </font>    \n",
    "> git add .                  <font color=grey> : adds all changes to the staging area</font>  \n",
    "> git commit -m \"Commit xxx\"                <font color=grey> : commits all changes in staging</font> \n",
    "\n",
    "Go to Github and create a new empty repo, and then push our files to the gh-pages branch.\n",
    ">git remote add origin git@github.com:<font color=blue>[username]/[yourRepo]</font>.git <br> <font color=grey> : connects to your remote repository and names it \"origin\"</font>   \n",
    ">git push -u origin main <font color=grey> : pushes local repo to your remote repo</font>   \n",
    "\n",
    "see at https://<font color=blue>[username]</font>.github.io/<font color=blue>[yourRepo]</font>/"
   ]
  },
  {
   "cell_type": "markdown",
   "metadata": {
    "slideshow": {
     "slide_type": "slide"
    }
   },
   "source": [
    "### Part 4: Resources & more details\n",
    "\n",
    "Link 1: https://medium.com/@mjspeck/presenting-code-using-jupyter-notebook-slides-a8a3c3b59d67\n",
    "\n",
    "Link 2: https://sophiamyang.github.io/DS/basics/slides_github_pages.html"
   ]
  },
  {
   "cell_type": "code",
   "execution_count": 1,
   "metadata": {
    "slideshow": {
     "slide_type": "skip"
    }
   },
   "outputs": [],
   "source": [
    "import pandas as pd"
   ]
  }
 ],
 "metadata": {
  "celltoolbar": "Slideshow",
  "kernelspec": {
   "display_name": "Python 3",
   "language": "python",
   "name": "python3"
  },
  "language_info": {
   "codemirror_mode": {
    "name": "ipython",
    "version": 3
   },
   "file_extension": ".py",
   "mimetype": "text/x-python",
   "name": "python",
   "nbconvert_exporter": "python",
   "pygments_lexer": "ipython3",
   "version": "3.8.5"
  }
 },
 "nbformat": 4,
 "nbformat_minor": 4
}
